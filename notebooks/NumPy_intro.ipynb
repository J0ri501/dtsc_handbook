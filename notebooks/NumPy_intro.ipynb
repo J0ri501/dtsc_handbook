{
 "cells": [
  {
   "cell_type": "markdown",
   "id": "62b1b9c5-fd50-4116-97e6-c88798fab136",
   "metadata": {},
   "source": [
    "# Introduction on how to use NumPy\n"
   ]
  },
  {
   "cell_type": "code",
   "execution_count": 3,
   "id": "3af20be6-1898-4b4f-9ec1-6bc613070d48",
   "metadata": {},
   "outputs": [
    {
     "data": {
      "text/plain": [
       "'2.2.3'"
      ]
     },
     "execution_count": 3,
     "metadata": {},
     "output_type": "execute_result"
    }
   ],
   "source": [
    "import numpy as np\n",
    "\n",
    "numpy.__version__\n",
    "\n",
    "#reminder: you can use npa.<TAB> to see attributes of np(numpy)"
   ]
  },
  {
   "cell_type": "markdown",
   "id": "6373096f-2ebb-41de-8cc5-03efcb72f272",
   "metadata": {},
   "source": [
    "# Understanding Data Types in Python"
   ]
  },
  {
   "cell_type": "markdown",
   "id": "e465f635-67ff-417a-8d07-9cfeecadb784",
   "metadata": {},
   "source": [
    "## A python integer is more than just an integer\n",
    "\n",
    "every python object is simply a cleverly-disguised C structure which contains its value, and other information like the reference, type of variable, size of data.\n",
    "\n",
    "```C\n",
    "struct _longobject {\n",
    "    long ob_refcnt;\n",
    "    PyTypeObject *ob_type;\n",
    "    size_t ob_size;\n",
    "    long ob_digit[1];\n",
    "};\n",
    "```\n",
    "ob_refcnt, a reference count that helps Python silently handle memory allocation and deallocation\n",
    "ob_type, which encodes the type of the variable\n",
    "ob_size, which specifies the size of the following data members\n",
    "ob_digit, which contains the actual integer value that we expect the Python variable to represent."
   ]
  },
  {
   "cell_type": "code",
   "execution_count": 5,
   "id": "00e29de6-edb4-4e28-920e-4f261fe03441",
   "metadata": {},
   "outputs": [
    {
     "name": "stdout",
     "output_type": "stream",
     "text": [
      "array('i', [0, 1, 2, 3, 4, 5, 6, 7, 8, 9])\n",
      "136\n",
      "120\n"
     ]
    }
   ],
   "source": [
    "# Fixed type arrays in python\n",
    "import array,sys\n",
    "L = list(range(10))\n",
    "A = array.array('i', L)\n",
    "\n",
    "print(A)\n",
    "\n",
    "print(sys.getsizeof(L))\n",
    "print(sys.getsizeof(A))\n",
    "\n",
    "# Fixed type arrays are useful when you need to store a single type of data and consume less memory\n"
   ]
  },
  {
   "cell_type": "markdown",
   "id": "aa2c8a9e-42ed-4716-8388-261bc55bd9a1",
   "metadata": {},
   "source": [
    "# Creating arrays from python lists\n",
    "we can use np.array to create arrays from python lists"
   ]
  },
  {
   "cell_type": "code",
   "execution_count": 4,
   "id": "4bc78214-52a9-428a-b97e-5979065ef09a",
   "metadata": {},
   "outputs": [
    {
     "data": {
      "text/plain": [
       "array([[2, 3, 4],\n",
       "       [4, 5, 6],\n",
       "       [6, 7, 8]])"
      ]
     },
     "execution_count": 4,
     "metadata": {},
     "output_type": "execute_result"
    }
   ],
   "source": [
    "import numpy as np\n",
    "#integer array\n",
    "np.array([1,2,3,4,5])\n",
    "# if types dont match numpy will upcast if possible\n",
    "# here integers are up-cast to float point:\n",
    "np.array([3.14, 4, 2 , 3])\n",
    "# explicity set data type of array\n",
    "np.array([1,2,3,4], dtype='float32')\n",
    "# numpy arrays can explicitly be multi-dimensional:\n",
    "np.array([range(i, i + 3) for i in [2,4,6]])\n",
    "\n",
    "# inner lists are treated as rows of rsulting two-dimensional array.\n",
    "\n"
   ]
  },
  {
   "cell_type": "markdown",
   "id": "97f3a8d2-12c2-491c-b489-3c9c6885d06f",
   "metadata": {},
   "source": [
    "# Creating Arrays from scratch\n",
    "for large arrays is more efficient to create arrays from scratch using routines built into numpy:"
   ]
  },
  {
   "cell_type": "code",
   "execution_count": 21,
   "id": "1a5b48eb-d1b1-44f1-a6fe-2acc6bddd92e",
   "metadata": {},
   "outputs": [
    {
     "data": {
      "text/plain": [
       "array([1., 1., 1.])"
      ]
     },
     "execution_count": 21,
     "metadata": {},
     "output_type": "execute_result"
    }
   ],
   "source": [
    "# len 10 integer array filled with zeros\n",
    "np.zeros(10, dtype=int)\n",
    "\n",
    "# Create a 3x5 floating-point arrat filled with ones\n",
    "np.ones((3,5), dtype=float)\n",
    "\n",
    "# Create a 3x5 array filled with 3.14\n",
    "np.full((3, 5), 3.14)\n",
    "\n",
    "# array filled with a linear sequence\n",
    "# starting at 0, ending at 20, stepping by 2\n",
    "np.arange(0, 20, 2)\n",
    "\n",
    "# array of 5 values spaced between 0 and 1\n",
    "np.linspace(0, 1, 5)\n",
    "\n",
    "# 3x3 array of uniformly distrubuted\n",
    "# random values between 0 and 1\n",
    "np.random.random((3,3))\n",
    "# with mean 0 and standard deviation 1\n",
    "np.random.normal(0, 1, (3, 3))\n",
    "# 3x3 array of random integers in the interval [0,10]\n",
    "np.random.randint(0, 10, (3,3))\n",
    "# 3x3 identity matrix\n",
    "np.eye(3)\n",
    "# uninitialized array of three integers\n",
    "# values will be wathever happens to already exist at that memory location\n",
    "np.empty(3)"
   ]
  },
  {
   "cell_type": "markdown",
   "id": "ea64ecfc-4567-4db9-b8f9-98176aab12c0",
   "metadata": {},
   "source": [
    "# NumPy standard data types\n",
    "numpy arrays contain values fo a single type.\n",
    "numpy is built in C, types will be familiar to users of C,Fortran, etc.\n",
    "Standard numpy data types are listed in the followed table.\n",
    "\n",
    "\n",
    "Data type\tDescription\n",
    "bool_\tBoolean (True or False) stored as a byte\n",
    "int_\tDefault integer type (same as C long; normally either int64 or int32)\n",
    "intc\tIdentical to C int (normally int32 or int64)\n",
    "intp\tInteger used for indexing (same as C ssize_t; normally either int32 or int64)\n",
    "int8\tByte (-128 to 127)\n",
    "int16\tInteger (-32768 to 32767)\n",
    "int32\tInteger (-2147483648 to 2147483647)\n",
    "int64\tInteger (-9223372036854775808 to 9223372036854775807)\n",
    "uint8\tUnsigned integer (0 to 255)\n",
    "uint16\tUnsigned integer (0 to 65535)\n",
    "uint32\tUnsigned integer (0 to 4294967295)\n",
    "uint64\tUnsigned integer (0 to 18446744073709551615)\n",
    "float_\tShorthand for float64.\n",
    "float16\tHalf precision float: sign bit, 5 bits exponent, 10 bits mantissa\n",
    "float32\tSingle precision float: sign bit, 8 bits exponent, 23 bits mantissa\n",
    "float64\tDouble precision float: sign bit, 11 bits exponent, 52 bits mantissa\n",
    "complex_\tShorthand for complex128.\n",
    "complex64\tComplex number, represented by two 32-bit floats\n",
    "complex128\tComplex number, represented by two 64-bit floats"
   ]
  },
  {
   "cell_type": "code",
   "execution_count": 24,
   "id": "5b296812-3ae9-4dab-af34-bb543662766f",
   "metadata": {},
   "outputs": [
    {
     "data": {
      "text/plain": [
       "array([0, 0, 0, 0, 0, 0, 0, 0, 0, 0], dtype=int16)"
      ]
     },
     "execution_count": 24,
     "metadata": {},
     "output_type": "execute_result"
    }
   ],
   "source": [
    "# Example\n",
    "np.zeros(10, dtype='int16')\n",
    "# using associated numpy object\n",
    "np.zeros(10, dtype=np.int16)"
   ]
  },
  {
   "cell_type": "markdown",
   "id": "ec88a747-116a-4de8-b21e-2ee56bb86149",
   "metadata": {},
   "source": [
    "# Numpy array attributes\n",
    "We will talk about three randome arrays, one dimensional, two dimensional and three dimensional arrays,  we'll use NumPy's random number generator, which we will seed with a set value in order to ensure that the same random arrays are generated each time this code runs:"
   ]
  },
  {
   "cell_type": "code",
   "execution_count": 63,
   "id": "855cab5b-ba07-4bb8-9c56-9223c0d59250",
   "metadata": {},
   "outputs": [
    {
     "name": "stdout",
     "output_type": "stream",
     "text": [
      "[5 0 3 3 7 9]\n",
      "[[3 5 2 4]\n",
      " [7 6 8 8]\n",
      " [1 6 7 7]]\n",
      "[[[8 1 5 9 8]\n",
      "  [9 4 3 0 3]\n",
      "  [5 0 2 3 8]\n",
      "  [1 3 3 3 7]]\n",
      "\n",
      " [[0 1 9 9 0]\n",
      "  [4 7 3 2 7]\n",
      "  [2 0 0 4 5]\n",
      "  [5 6 8 4 1]]\n",
      "\n",
      " [[4 9 8 1 1]\n",
      "  [7 9 9 3 6]\n",
      "  [7 2 0 3 5]\n",
      "  [9 4 4 6 4]]]\n"
     ]
    }
   ],
   "source": [
    "np.random.seed(0) # seed for reproducibility\n",
    "x1 = np.random.randint(10, size=6) # one dimensional\n",
    "x2 = np.random.randint(10, size=(3,4)) # Two dimensional\n",
    "x3 = np.random.randint(10, size=(3, 4, 5)) # three dimensional\n",
    "print(x1)\n",
    "print(x2)\n",
    "print(x3)\n",
    "# each array has attributes ndim(number of dimensions)\n",
    "# shape (the size of each dimension)\n",
    "# size (total size of the array)"
   ]
  },
  {
   "cell_type": "code",
   "execution_count": 68,
   "id": "1cf21c6c-cb78-4a49-beb2-8b02be8137dd",
   "metadata": {},
   "outputs": [
    {
     "name": "stdout",
     "output_type": "stream",
     "text": [
      "x3 ndim:  3\n",
      "x3 shape:  (3, 4, 5)\n",
      "x3 size:  60\n",
      "dtype:  int64\n",
      "itemsize:  8 bytes\n",
      "nbytes:  480 bytes\n"
     ]
    }
   ],
   "source": [
    "print(\"x3 ndim: \", x3.ndim)\n",
    "print(\"x3 shape: \", x3.shape)\n",
    "print(\"x3 size: \", x3.size)\n",
    "\n",
    "# dtype: data type of array\n",
    "print(\"dtype: \", x3.dtype)\n",
    "\n",
    "#itemsize lists size in bytes of each array\n",
    "print(\"itemsize: \", x3.itemsize, \"bytes\")\n",
    "print(\"nbytes: \", x3.nbytes, \"bytes\")\n",
    "\n",
    "# nbytes is equal to itemsize times size.\n"
   ]
  },
  {
   "cell_type": "markdown",
   "id": "895b023c-885e-43b4-bfd6-520a344589a5",
   "metadata": {},
   "source": [
    "# Array indexing: accessing single elements\n",
    "numpy feels similar to python standard list indexing, a value can be accessed by specifying the desired index in square brackets:"
   ]
  },
  {
   "cell_type": "code",
   "execution_count": 79,
   "id": "12f2dedc-f108-496a-a178-8f96b49dd345",
   "metadata": {},
   "outputs": [
    {
     "data": {
      "text/plain": [
       "np.int64(7)"
      ]
     },
     "execution_count": 79,
     "metadata": {},
     "output_type": "execute_result"
    }
   ],
   "source": [
    "x1\n",
    "x1[0]\n",
    "x1[4]\n",
    "# index from the end of the array\n",
    "x1[-1]\n",
    "x1[-2]\n"
   ]
  },
  {
   "cell_type": "code",
   "execution_count": 80,
   "id": "53ff0f23-d3f8-4e3e-bd6e-44d47b67e0f6",
   "metadata": {},
   "outputs": [
    {
     "data": {
      "text/plain": [
       "array([[3, 5, 2, 4],\n",
       "       [7, 6, 8, 8],\n",
       "       [1, 6, 7, 7]])"
      ]
     },
     "execution_count": 80,
     "metadata": {},
     "output_type": "execute_result"
    }
   ],
   "source": [
    "# in multi dimensional arrays\n",
    "x2"
   ]
  },
  {
   "cell_type": "code",
   "execution_count": 81,
   "id": "71727d9c-50cd-4061-ad97-8695d74076f9",
   "metadata": {},
   "outputs": [
    {
     "data": {
      "text/plain": [
       "np.int64(3)"
      ]
     },
     "execution_count": 81,
     "metadata": {},
     "output_type": "execute_result"
    }
   ],
   "source": [
    "x2[0,0]"
   ]
  },
  {
   "cell_type": "code",
   "execution_count": 82,
   "id": "c3d5843a-c4e2-4e01-8925-d92c1b3ff7a2",
   "metadata": {},
   "outputs": [
    {
     "data": {
      "text/plain": [
       "np.int64(1)"
      ]
     },
     "execution_count": 82,
     "metadata": {},
     "output_type": "execute_result"
    }
   ],
   "source": [
    "x2[2,0]"
   ]
  },
  {
   "cell_type": "code",
   "execution_count": 83,
   "id": "2fae5ba3-2a54-4571-be76-d8f7fb5e124a",
   "metadata": {},
   "outputs": [
    {
     "data": {
      "text/plain": [
       "np.int64(7)"
      ]
     },
     "execution_count": 83,
     "metadata": {},
     "output_type": "execute_result"
    }
   ],
   "source": [
    "x2[2,-1]"
   ]
  },
  {
   "cell_type": "markdown",
   "id": "0313ef3e-000d-41b2-85bd-972bac85deab",
   "metadata": {},
   "source": [
    "# Array slicing: accessing subarrays\n",
    "numpy slicing syntax follows that of the standard python list; to access a slice of an array x, use this:\n",
    "\n",
    "x[start:stop:step]\n"
   ]
  },
  {
   "cell_type": "markdown",
   "id": "be9e7c15-a327-47d5-9cf7-4fdf4555f71a",
   "metadata": {},
   "source": [
    "## one dimensional subarrays"
   ]
  },
  {
   "cell_type": "code",
   "execution_count": 84,
   "id": "77125dcf-32e0-4ee8-8907-74117a3d7c81",
   "metadata": {},
   "outputs": [
    {
     "data": {
      "text/plain": [
       "array([0, 1, 2, 3, 4, 5, 6, 7, 8, 9])"
      ]
     },
     "execution_count": 84,
     "metadata": {},
     "output_type": "execute_result"
    }
   ],
   "source": [
    "x = np.arange(10)\n",
    "x"
   ]
  },
  {
   "cell_type": "code",
   "execution_count": 85,
   "id": "a5a1ae68-e924-49b8-a263-ad888ee225b9",
   "metadata": {},
   "outputs": [
    {
     "data": {
      "text/plain": [
       "array([0, 1, 2, 3, 4])"
      ]
     },
     "execution_count": 85,
     "metadata": {},
     "output_type": "execute_result"
    }
   ],
   "source": [
    "x[:5] # first five elements"
   ]
  },
  {
   "cell_type": "code",
   "execution_count": 86,
   "id": "a47e0bff-618c-47ce-88e2-4146e8049ffc",
   "metadata": {},
   "outputs": [
    {
     "data": {
      "text/plain": [
       "array([5, 6, 7, 8, 9])"
      ]
     },
     "execution_count": 86,
     "metadata": {},
     "output_type": "execute_result"
    }
   ],
   "source": [
    "x[5:] # elements after index 5"
   ]
  },
  {
   "cell_type": "code",
   "execution_count": 87,
   "id": "39addf0a-a9e3-4202-8bf3-e3aaa9846424",
   "metadata": {},
   "outputs": [
    {
     "data": {
      "text/plain": [
       "array([4, 5, 6])"
      ]
     },
     "execution_count": 87,
     "metadata": {},
     "output_type": "execute_result"
    }
   ],
   "source": [
    "x[4:7] # middle sub-array"
   ]
  },
  {
   "cell_type": "code",
   "execution_count": 88,
   "id": "dc310434-8ea5-49d7-892b-e2468cf8835a",
   "metadata": {},
   "outputs": [
    {
     "data": {
      "text/plain": [
       "array([0, 2, 4, 6, 8])"
      ]
     },
     "execution_count": 88,
     "metadata": {},
     "output_type": "execute_result"
    }
   ],
   "source": [
    "x[::2] # every other element"
   ]
  },
  {
   "cell_type": "code",
   "execution_count": 92,
   "id": "f1fc9c78-24f1-4b04-b173-2f8b7efeef0b",
   "metadata": {},
   "outputs": [
    {
     "data": {
      "text/plain": [
       "array([1, 3, 5, 7, 9])"
      ]
     },
     "execution_count": 92,
     "metadata": {},
     "output_type": "execute_result"
    }
   ],
   "source": [
    "x[1::2] # every other element starting at index 1"
   ]
  },
  {
   "cell_type": "markdown",
   "id": "c0d87513-b513-4b26-9577-98b3b5d33834",
   "metadata": {},
   "source": [
    "# Multi dimensional subarrays\n",
    "work in the same way with multiple slices separated by commas."
   ]
  },
  {
   "cell_type": "code",
   "execution_count": 93,
   "id": "f9cc4ede-d0e1-44cb-81d7-46774a903f21",
   "metadata": {},
   "outputs": [
    {
     "data": {
      "text/plain": [
       "array([[3, 5, 2, 4],\n",
       "       [7, 6, 8, 8],\n",
       "       [1, 6, 7, 7]])"
      ]
     },
     "execution_count": 93,
     "metadata": {},
     "output_type": "execute_result"
    }
   ],
   "source": [
    "x2"
   ]
  },
  {
   "cell_type": "code",
   "execution_count": 94,
   "id": "d3cbfe4a-14e4-41fe-b1b9-23e5b45b4114",
   "metadata": {},
   "outputs": [
    {
     "data": {
      "text/plain": [
       "array([[3, 5, 2],\n",
       "       [7, 6, 8]])"
      ]
     },
     "execution_count": 94,
     "metadata": {},
     "output_type": "execute_result"
    }
   ],
   "source": [
    "x2[:2, :3] # all rows, every other column"
   ]
  },
  {
   "cell_type": "code",
   "execution_count": 95,
   "id": "69b5f108-63ff-4f8d-bd81-0cee36de0bd2",
   "metadata": {},
   "outputs": [
    {
     "data": {
      "text/plain": [
       "array([[7, 7, 6, 1],\n",
       "       [8, 8, 6, 7],\n",
       "       [4, 2, 5, 3]])"
      ]
     },
     "execution_count": 95,
     "metadata": {},
     "output_type": "execute_result"
    }
   ],
   "source": [
    "# reversed\n",
    "x2[::-1, ::-1]"
   ]
  },
  {
   "cell_type": "code",
   "execution_count": 99,
   "id": "8cf9094e-9231-4ee0-8f2c-7f1d5d9d6ea0",
   "metadata": {},
   "outputs": [
    {
     "name": "stdout",
     "output_type": "stream",
     "text": [
      "[3 7 1]\n",
      "[3 5 2 4]\n"
     ]
    }
   ],
   "source": [
    "# accesing array rows and columns\n",
    "\n",
    "print(x2[:, 0]) #first column of x2\n",
    "print(x2[0,:])  #first row of x2\n"
   ]
  },
  {
   "cell_type": "markdown",
   "id": "6cc60e62-0f3d-4855-ac1c-34714e2c2e46",
   "metadata": {},
   "source": [
    "## Subarrays as no copy views\n",
    "is important to know that arrays slices are views and not copies of the array data, here numpy differs from python list slicing, in lists, slices will be copies."
   ]
  },
  {
   "cell_type": "code",
   "execution_count": 100,
   "id": "e2056388-f6ee-4ce9-b8d7-9a6bbef9d1f3",
   "metadata": {},
   "outputs": [
    {
     "name": "stdout",
     "output_type": "stream",
     "text": [
      "[[3 5 2 4]\n",
      " [7 6 8 8]\n",
      " [1 6 7 7]]\n"
     ]
    }
   ],
   "source": [
    "print(x2)"
   ]
  },
  {
   "cell_type": "code",
   "execution_count": 101,
   "id": "ce1b857e-e308-42b8-9560-7ed23d6b39e4",
   "metadata": {},
   "outputs": [
    {
     "name": "stdout",
     "output_type": "stream",
     "text": [
      "[[3 5]\n",
      " [7 6]]\n"
     ]
    }
   ],
   "source": [
    "x2_sub = x2[:2, :2]\n",
    "print(x2_sub)"
   ]
  },
  {
   "cell_type": "markdown",
   "id": "4a39043e-4803-461d-a2a2-987ffd77c065",
   "metadata": {},
   "source": [
    "now if we modify thes subarray we'll see that the original array is changed:"
   ]
  },
  {
   "cell_type": "code",
   "execution_count": 102,
   "id": "458f5ba6-2540-4db9-a31a-f1027e27f0e6",
   "metadata": {},
   "outputs": [
    {
     "name": "stdout",
     "output_type": "stream",
     "text": [
      "[[99  5]\n",
      " [ 7  6]]\n"
     ]
    }
   ],
   "source": [
    "x2_sub[0,0] = 99\n",
    "print(x2_sub)"
   ]
  },
  {
   "cell_type": "code",
   "execution_count": 103,
   "id": "abe8d9d9-9658-4ad6-8a2c-339d79732c1a",
   "metadata": {},
   "outputs": [
    {
     "name": "stdout",
     "output_type": "stream",
     "text": [
      "[[99  5  2  4]\n",
      " [ 7  6  8  8]\n",
      " [ 1  6  7  7]]\n"
     ]
    }
   ],
   "source": [
    "print(x2)"
   ]
  },
  {
   "cell_type": "markdown",
   "id": "7e947e00-49d2-49c4-8dcf-03e019aa7f22",
   "metadata": {},
   "source": [
    "sometimes can be useful to have a explicitly copy of the data, this can be done with copy() method:"
   ]
  },
  {
   "cell_type": "code",
   "execution_count": 104,
   "id": "81afaeec-22c8-4fbf-8688-14699783f3e0",
   "metadata": {},
   "outputs": [
    {
     "name": "stdout",
     "output_type": "stream",
     "text": [
      "[[99  5]\n",
      " [ 7  6]]\n"
     ]
    }
   ],
   "source": [
    "x2_sub_copy = x2[:2, :2].copy()\n",
    "print(x2_sub_copy)"
   ]
  },
  {
   "cell_type": "markdown",
   "id": "463266ba-a802-4be7-a8fb-221c2c7cb224",
   "metadata": {},
   "source": [
    "## Reshaping of arrays\n",
    "Anotther useful type of operation is reshaping of arrays.\n",
    "this operation can be done with reshape method.\n",
    "\n",
    "If you want to put the numbers 1 through 9 in a 3 x 3 grid, you can do the following:"
   ]
  },
  {
   "cell_type": "code",
   "execution_count": 114,
   "id": "b9f6b756-1f85-439c-86e4-72c7aaaaffad",
   "metadata": {},
   "outputs": [
    {
     "name": "stdout",
     "output_type": "stream",
     "text": [
      "[1 2 3 4 5 6 7 8 9]\n",
      "\n",
      " [[1 2 3]\n",
      " [4 5 6]\n",
      " [7 8 9]]\n"
     ]
    }
   ],
   "source": [
    "grid = np.arange(1,10)\n",
    "print(grid)\n",
    "grid_reshaped = grid.reshape(3,3)\n",
    "print('\\n', grid_reshaped)"
   ]
  },
  {
   "cell_type": "markdown",
   "id": "9ff7dfae-bce5-4889-a77f-97d0afb94896",
   "metadata": {},
   "source": [
    "the shape of the initial array must match the size of the reshaped array.\n",
    "\n",
    "another common reshaping pattern is the conversion of a one dimensional array into a two dimensional row or column matrix."
   ]
  },
  {
   "cell_type": "code",
   "execution_count": 115,
   "id": "1c088285-1a75-4dd3-b32a-325edaa079bb",
   "metadata": {},
   "outputs": [
    {
     "data": {
      "text/plain": [
       "array([[1, 2, 3]])"
      ]
     },
     "execution_count": 115,
     "metadata": {},
     "output_type": "execute_result"
    }
   ],
   "source": [
    "x = np.array([1,2,3])\n",
    "# row vector via reshape\n",
    "x.reshape((1,3))\n"
   ]
  }
 ],
 "metadata": {
  "kernelspec": {
   "display_name": "Python 3 (ipykernel)",
   "language": "python",
   "name": "python3"
  },
  "language_info": {
   "codemirror_mode": {
    "name": "ipython",
    "version": 3
   },
   "file_extension": ".py",
   "mimetype": "text/x-python",
   "name": "python",
   "nbconvert_exporter": "python",
   "pygments_lexer": "ipython3",
   "version": "3.13.2"
  }
 },
 "nbformat": 4,
 "nbformat_minor": 5
}
