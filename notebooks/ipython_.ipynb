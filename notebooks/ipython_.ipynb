{
 "cells": [
  {
   "cell_type": "markdown",
   "id": "b0b62fb9-7373-4dcd-81e0-f143ed46a318",
   "metadata": {},
   "source": [
    "\n",
    "# to get started\n",
    "Download and install the Miniconda package–make sure to choose a version with Python 3–and then install the core packages used in this book:\n",
    "\n",
    "$ conda install numpy pandas scikit-learn matplotlib seaborn jupyter\n",
    "\n",
    "\n",
    "# Little guide to use conda\n",
    "\n",
    "Create environment\t --> conda create --name mi_env python=3.11\n",
    "Activate environment --> conda activate mi_env\n",
    "leave environment\t --> conda deactivate\n",
    "environment list     --> conda env list\n",
    "delete environment\t --> conda remove --name mi_env --all\n",
    "Export environment\t --> conda env export > environment.yml\n",
    "Create environment from a file         --> conda env create -f environment.yml\n",
    "Export environment and removes prefix --> conda env export --no-builds | grep -v \"prefix\" > environment.yml\n",
    "\n",
    "# what is ipython and how to use\n",
    "ipython is about using python effectively for interactive scientific and data intensive computing.\n",
    "\n",
    "## ipython: ? & ?? suffix\n",
    "? is a shorthand for accessing documentation and more relevant information\n",
    "?? gives you acces to source code in some cases(if ?? does not give you the code is because is not implemented in python but in other language).\n",
    "\n",
    "## Tab-completion\n",
    "is a builtin dir that returns a list for available attributes of an object, if you have a list l=[1,2,3] and type l. then press tab you will see a list with available attributes of the object list like append, copy, insert, remove.\n",
    "\n",
    "you can also see your available imports with import <TAB>.\n",
    "\n",
    "## Pasting code blocks: %paste and %cpaste\n",
    "\n",
    "## running external code: %run\n",
    "%run myscript.py\n",
    "\n",
    "## Timing code execution: %timeit\n",
    "%timeit L = [n ** 2 for n in range (1000)]\n",
    "30 μs ± 171 ns per loop (mean ± std. dev. of 7 runs, 10,000 loops each)\n",
    "\n",
    "## Help on magic functions: ?, %magic, %lsmagic\n",
    "\n",
    "%magic : documentation for functions\n",
    "%lsmagic : quick and simple list of all magic functions\n",
    "\n",
    "## Errors and Debugging : %xmode\n",
    "you can use %xmode yo see a different printed message on console.\n",
    "\n",
    "%xmode Plain\n",
    "%xmode Verbose\n",
    "%xmode Context\n",
    "\n",
    "Plain, Context, and Verbose, the default is Context.\n",
    "\n",
    "ipython documentation: https://ipython.org/\n",
    "\n"
   ]
  },
  {
   "cell_type": "code",
   "execution_count": null,
   "id": "5ae16081-bf92-456b-a6b5-72a6addea397",
   "metadata": {},
   "outputs": [],
   "source": [
    "\n",
    "l = [1,2,3]\n"
   ]
  }
 ],
 "metadata": {
  "kernelspec": {
   "display_name": "Python 3 (ipykernel)",
   "language": "python",
   "name": "python3"
  },
  "language_info": {
   "codemirror_mode": {
    "name": "ipython",
    "version": 3
   },
   "file_extension": ".py",
   "mimetype": "text/x-python",
   "name": "python",
   "nbconvert_exporter": "python",
   "pygments_lexer": "ipython3",
   "version": "3.13.2"
  }
 },
 "nbformat": 4,
 "nbformat_minor": 5
}
