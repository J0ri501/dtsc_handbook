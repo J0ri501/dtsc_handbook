{
 "cells": [
  {
   "cell_type": "markdown",
   "id": "62b1b9c5-fd50-4116-97e6-c88798fab136",
   "metadata": {},
   "source": [
    "# Introduction on how to use NumPy\n"
   ]
  },
  {
   "cell_type": "code",
   "execution_count": 3,
   "id": "3af20be6-1898-4b4f-9ec1-6bc613070d48",
   "metadata": {},
   "outputs": [
    {
     "data": {
      "text/plain": [
       "'2.2.3'"
      ]
     },
     "execution_count": 3,
     "metadata": {},
     "output_type": "execute_result"
    }
   ],
   "source": [
    "import numpy as np\n",
    "\n",
    "numpy.__version__\n",
    "\n",
    "#reminder: you can use npa.<TAB> to see attributes of np(numpy)"
   ]
  },
  {
   "cell_type": "markdown",
   "id": "6373096f-2ebb-41de-8cc5-03efcb72f272",
   "metadata": {},
   "source": [
    "# Understanding Data Types in Python"
   ]
  },
  {
   "cell_type": "markdown",
   "id": "e465f635-67ff-417a-8d07-9cfeecadb784",
   "metadata": {},
   "source": [
    "## A python integer is more than just an integer\n",
    "\n",
    "every python object is simply a cleverly-disguised C structure which contains its value, and other information like the reference, type of variable, size of data.\n",
    "\n",
    "```C\n",
    "struct _longobject {\n",
    "    long ob_refcnt;\n",
    "    PyTypeObject *ob_type;\n",
    "    size_t ob_size;\n",
    "    long ob_digit[1];\n",
    "};\n",
    "```\n",
    "ob_refcnt, a reference count that helps Python silently handle memory allocation and deallocation\n",
    "ob_type, which encodes the type of the variable\n",
    "ob_size, which specifies the size of the following data members\n",
    "ob_digit, which contains the actual integer value that we expect the Python variable to represent."
   ]
  },
  {
   "cell_type": "code",
   "execution_count": 5,
   "id": "00e29de6-edb4-4e28-920e-4f261fe03441",
   "metadata": {},
   "outputs": [
    {
     "name": "stdout",
     "output_type": "stream",
     "text": [
      "array('i', [0, 1, 2, 3, 4, 5, 6, 7, 8, 9])\n",
      "136\n",
      "120\n"
     ]
    }
   ],
   "source": [
    "# Fixed type arrays in python\n",
    "import array,sys\n",
    "L = list(range(10))\n",
    "A = array.array('i', L)\n",
    "\n",
    "print(A)\n",
    "\n",
    "print(sys.getsizeof(L))\n",
    "print(sys.getsizeof(A))\n",
    "\n",
    "# Fixed type arrays are useful when you need to store a single type of data and consume less memory\n"
   ]
  },
  {
   "cell_type": "markdown",
   "id": "aa2c8a9e-42ed-4716-8388-261bc55bd9a1",
   "metadata": {},
   "source": [
    "# Creating arrays from python lists\n",
    "we can use np.array to create arrays from python lists"
   ]
  },
  {
   "cell_type": "code",
   "execution_count": 6,
   "id": "4bc78214-52a9-428a-b97e-5979065ef09a",
   "metadata": {},
   "outputs": [
    {
     "data": {
      "text/plain": [
       "array([1, 2, 3, 4, 5])"
      ]
     },
     "execution_count": 6,
     "metadata": {},
     "output_type": "execute_result"
    }
   ],
   "source": [
    "import numpy as np\n",
    "#integer array\n",
    "np.array([1,2,3,4,5])"
   ]
  }
 ],
 "metadata": {
  "kernelspec": {
   "display_name": "Python 3 (ipykernel)",
   "language": "python",
   "name": "python3"
  },
  "language_info": {
   "codemirror_mode": {
    "name": "ipython",
    "version": 3
   },
   "file_extension": ".py",
   "mimetype": "text/x-python",
   "name": "python",
   "nbconvert_exporter": "python",
   "pygments_lexer": "ipython3",
   "version": "3.13.2"
  }
 },
 "nbformat": 4,
 "nbformat_minor": 5
}
