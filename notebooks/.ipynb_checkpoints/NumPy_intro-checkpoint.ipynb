{
 "cells": [
  {
   "cell_type": "markdown",
   "id": "62b1b9c5-fd50-4116-97e6-c88798fab136",
   "metadata": {},
   "source": [
    "# Introduction on how to use NumPy\n"
   ]
  },
  {
   "cell_type": "code",
   "execution_count": 3,
   "id": "3af20be6-1898-4b4f-9ec1-6bc613070d48",
   "metadata": {},
   "outputs": [
    {
     "data": {
      "text/plain": [
       "'2.2.3'"
      ]
     },
     "execution_count": 3,
     "metadata": {},
     "output_type": "execute_result"
    }
   ],
   "source": [
    "import numpy as np\n",
    "\n",
    "numpy.__version__\n",
    "\n",
    "#reminder: you can use np.<TAB> to see attributes of np(numpy)"
   ]
  },
  {
   "cell_type": "markdown",
   "id": "6373096f-2ebb-41de-8cc5-03efcb72f272",
   "metadata": {},
   "source": [
    "# Understanding Data Types in Python"
   ]
  }
 ],
 "metadata": {
  "kernelspec": {
   "display_name": "Python 3 (ipykernel)",
   "language": "python",
   "name": "python3"
  },
  "language_info": {
   "codemirror_mode": {
    "name": "ipython",
    "version": 3
   },
   "file_extension": ".py",
   "mimetype": "text/x-python",
   "name": "python",
   "nbconvert_exporter": "python",
   "pygments_lexer": "ipython3",
   "version": "3.13.2"
  }
 },
 "nbformat": 4,
 "nbformat_minor": 5
}
